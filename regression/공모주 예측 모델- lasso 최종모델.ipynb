{
 "cells": [
  {
   "cell_type": "code",
   "execution_count": 4,
   "metadata": {
    "id": "5mRpDh69dDld"
   },
   "outputs": [],
   "source": [
    "import pandas as pd\n",
    "import numpy as np\n",
    "import seaborn as sns\n",
    "from sklearn import preprocessing\n",
    "import matplotlib.pyplot as plt\n",
    "%matplotlib inline"
   ]
  },
  {
   "cell_type": "code",
   "execution_count": 5,
   "metadata": {
    "id": "San70JGYdDlk",
    "outputId": "f859c376-eb75-4245-b2f7-a3c0ac15a901"
   },
   "outputs": [
    {
     "data": {
      "text/html": [
       "<div>\n",
       "<style scoped>\n",
       "    .dataframe tbody tr th:only-of-type {\n",
       "        vertical-align: middle;\n",
       "    }\n",
       "\n",
       "    .dataframe tbody tr th {\n",
       "        vertical-align: top;\n",
       "    }\n",
       "\n",
       "    .dataframe thead th {\n",
       "        text-align: right;\n",
       "    }\n",
       "</style>\n",
       "<table border=\"1\" class=\"dataframe\">\n",
       "  <thead>\n",
       "    <tr style=\"text-align: right;\">\n",
       "      <th></th>\n",
       "      <th>Unnamed: 0</th>\n",
       "      <th>기업명</th>\n",
       "      <th>매출액(백만원)</th>\n",
       "      <th>순이익(백만원)</th>\n",
       "      <th>구주매출</th>\n",
       "      <th>희망공모가(최저)</th>\n",
       "      <th>희망공모가(최고)</th>\n",
       "      <th>청약경쟁률(:1)</th>\n",
       "      <th>확정공모가(원)</th>\n",
       "      <th>경쟁률(:1)</th>\n",
       "      <th>의무보유확약(:1)</th>\n",
       "      <th>시초/공모%(수익률)</th>\n",
       "      <th>공모가(원)</th>\n",
       "      <th>시초가(원)</th>\n",
       "      <th>상장일</th>\n",
       "    </tr>\n",
       "  </thead>\n",
       "  <tbody>\n",
       "    <tr>\n",
       "      <th>0</th>\n",
       "      <td>0</td>\n",
       "      <td>에이치피에스피</td>\n",
       "      <td>61174.0</td>\n",
       "      <td>17658.0</td>\n",
       "      <td>1.00</td>\n",
       "      <td>23000.0</td>\n",
       "      <td>25000.0</td>\n",
       "      <td>1159.05</td>\n",
       "      <td>25000</td>\n",
       "      <td>1511.36</td>\n",
       "      <td>42.54</td>\n",
       "      <td>100.00</td>\n",
       "      <td>25000</td>\n",
       "      <td>50000</td>\n",
       "      <td>20220715</td>\n",
       "    </tr>\n",
       "    <tr>\n",
       "      <th>1</th>\n",
       "      <td>1</td>\n",
       "      <td>영창케미칼</td>\n",
       "      <td>60760.0</td>\n",
       "      <td>2506.0</td>\n",
       "      <td>0.83</td>\n",
       "      <td>15000.0</td>\n",
       "      <td>18600.0</td>\n",
       "      <td>682.13</td>\n",
       "      <td>18600</td>\n",
       "      <td>1616.27</td>\n",
       "      <td>5.92</td>\n",
       "      <td>-1.08</td>\n",
       "      <td>18600</td>\n",
       "      <td>18400</td>\n",
       "      <td>20220714</td>\n",
       "    </tr>\n",
       "    <tr>\n",
       "      <th>2</th>\n",
       "      <td>2</td>\n",
       "      <td>넥스트칩</td>\n",
       "      <td>10383.0</td>\n",
       "      <td>-13496.0</td>\n",
       "      <td>1.00</td>\n",
       "      <td>9900.0</td>\n",
       "      <td>11600.0</td>\n",
       "      <td>1727.38</td>\n",
       "      <td>13000</td>\n",
       "      <td>1623.41</td>\n",
       "      <td>11.58</td>\n",
       "      <td>31.92</td>\n",
       "      <td>13000</td>\n",
       "      <td>17150</td>\n",
       "      <td>20220701</td>\n",
       "    </tr>\n",
       "    <tr>\n",
       "      <th>3</th>\n",
       "      <td>3</td>\n",
       "      <td>위니아에이드</td>\n",
       "      <td>418527.0</td>\n",
       "      <td>24895.0</td>\n",
       "      <td>1.00</td>\n",
       "      <td>14200.0</td>\n",
       "      <td>16200.0</td>\n",
       "      <td>111.26</td>\n",
       "      <td>16200</td>\n",
       "      <td>955.00</td>\n",
       "      <td>1.39</td>\n",
       "      <td>-9.88</td>\n",
       "      <td>16200</td>\n",
       "      <td>14600</td>\n",
       "      <td>20220623</td>\n",
       "    </tr>\n",
       "    <tr>\n",
       "      <th>4</th>\n",
       "      <td>4</td>\n",
       "      <td>레이저쎌</td>\n",
       "      <td>3879.0</td>\n",
       "      <td>-7665.0</td>\n",
       "      <td>1.00</td>\n",
       "      <td>12000.0</td>\n",
       "      <td>14000.0</td>\n",
       "      <td>1845.11</td>\n",
       "      <td>16000</td>\n",
       "      <td>1442.95</td>\n",
       "      <td>12.43</td>\n",
       "      <td>28.75</td>\n",
       "      <td>16000</td>\n",
       "      <td>20600</td>\n",
       "      <td>20220624</td>\n",
       "    </tr>\n",
       "  </tbody>\n",
       "</table>\n",
       "</div>"
      ],
      "text/plain": [
       "   Unnamed: 0      기업명  매출액(백만원)  순이익(백만원)  구주매출  희망공모가(최저)  희망공모가(최고)  \\\n",
       "0           0  에이치피에스피   61174.0   17658.0  1.00    23000.0    25000.0   \n",
       "1           1    영창케미칼   60760.0    2506.0  0.83    15000.0    18600.0   \n",
       "2           2     넥스트칩   10383.0  -13496.0  1.00     9900.0    11600.0   \n",
       "3           3   위니아에이드  418527.0   24895.0  1.00    14200.0    16200.0   \n",
       "4           4     레이저쎌    3879.0   -7665.0  1.00    12000.0    14000.0   \n",
       "\n",
       "   청약경쟁률(:1)  확정공모가(원)  경쟁률(:1)  의무보유확약(:1)  시초/공모%(수익률)  공모가(원)  시초가(원)  \\\n",
       "0    1159.05     25000  1511.36       42.54       100.00   25000   50000   \n",
       "1     682.13     18600  1616.27        5.92        -1.08   18600   18400   \n",
       "2    1727.38     13000  1623.41       11.58        31.92   13000   17150   \n",
       "3     111.26     16200   955.00        1.39        -9.88   16200   14600   \n",
       "4    1845.11     16000  1442.95       12.43        28.75   16000   20600   \n",
       "\n",
       "        상장일  \n",
       "0  20220715  \n",
       "1  20220714  \n",
       "2  20220701  \n",
       "3  20220623  \n",
       "4  20220624  "
      ]
     },
     "execution_count": 5,
     "metadata": {},
     "output_type": "execute_result"
    }
   ],
   "source": [
    "data1 = pd.read_csv('C:/Users/KHS/Desktop/카카오톡 봇/refined_data.csv')\n",
    "data1.head()"
   ]
  },
  {
   "cell_type": "code",
   "execution_count": 6,
   "metadata": {
    "id": "mvl2YPXkdDlp"
   },
   "outputs": [],
   "source": [
    "from sklearn.model_selection import train_test_split\n",
    "x= data1[[\"희망공모가(최고)\",\"청약경쟁률(:1)\",\"확정공모가(원)\",\"경쟁률(:1)\",\"의무보유확약(:1)\"]]\n",
    "y= data1[\"시초/공모%(수익률)\"]"
   ]
  },
  {
   "cell_type": "code",
   "execution_count": 7,
   "metadata": {},
   "outputs": [],
   "source": [
    "x_train, x_test,y_train,y_test = train_test_split(x, y, train_size=0.8,test_size=0.2,random_state = 1)\n",
    "#8:2의 비율로 training, test set 분리"
   ]
  },
  {
   "cell_type": "code",
   "execution_count": 8,
   "metadata": {},
   "outputs": [
    {
     "name": "stdout",
     "output_type": "stream",
     "text": [
      "(441, 5)\n",
      "(111, 5)\n",
      "364     67.20\n",
      "247     99.57\n",
      "65      23.33\n",
      "237      5.50\n",
      "547     18.92\n",
      "        ...  \n",
      "392    -10.00\n",
      "417      1.11\n",
      "17      16.00\n",
      "370    100.00\n",
      "475     -0.17\n",
      "Name: 시초/공모%(수익률), Length: 111, dtype: float64\n"
     ]
    }
   ],
   "source": [
    "print(x_train.shape)\n",
    "print(x_test.shape)\n",
    "print(y_test)"
   ]
  },
  {
   "cell_type": "code",
   "execution_count": 9,
   "metadata": {},
   "outputs": [],
   "source": [
    "#pip install xgboost"
   ]
  },
  {
   "cell_type": "code",
   "execution_count": 10,
   "metadata": {},
   "outputs": [],
   "source": [
    "from sklearn.linear_model import LinearRegression, Ridge, Lasso, ElasticNet\n",
    "from sklearn.linear_model import LassoCV , ElasticNetCV , RidgeCV\n",
    "from sklearn.preprocessing import PolynomialFeatures\n",
    "from sklearn.decomposition import PCA \n",
    "from sklearn.metrics import mean_squared_error as mse\n",
    "from sklearn.metrics import r2_score as r2\n",
    "from sklearn.model_selection import cross_val_score\n",
    "from sklearn.ensemble import GradientBoostingRegressor as GBR\n",
    "from sklearn.ensemble import RandomForestRegressor as RFR\n",
    "from sklearn.cross_decomposition import PLSRegression as  PLS\n",
    "from sklearn.svm import SVR\n",
    "from sklearn.kernel_ridge import KernelRidge\n",
    "from sklearn.model_selection import ShuffleSplit\n",
    "from sklearn.pipeline import Pipeline\n",
    "from sklearn.preprocessing import StandardScaler\n",
    "from sklearn.model_selection import GridSearchCV"
   ]
  },
  {
   "cell_type": "code",
   "execution_count": 11,
   "metadata": {},
   "outputs": [
    {
     "name": "stderr",
     "output_type": "stream",
     "text": [
      "c:\\Anaconda3\\envs\\ml\\lib\\site-packages\\sklearn\\model_selection\\_validation.py:372: FitFailedWarning: \n",
      "20 fits failed out of a total of 20.\n",
      "The score on these train-test partitions for these parameters will be set to nan.\n",
      "If these failures are not expected, you can try to debug them by setting error_score='raise'.\n",
      "\n",
      "Below are more details about the failures:\n",
      "--------------------------------------------------------------------------------\n",
      "20 fits failed with the following error:\n",
      "Traceback (most recent call last):\n",
      "  File \"c:\\Anaconda3\\envs\\ml\\lib\\site-packages\\sklearn\\model_selection\\_validation.py\", line 680, in _fit_and_score\n",
      "    estimator.fit(X_train, y_train, **fit_params)\n",
      "  File \"c:\\Anaconda3\\envs\\ml\\lib\\site-packages\\sklearn\\pipeline.py\", line 390, in fit\n",
      "    Xt = self._fit(X, y, **fit_params_steps)\n",
      "  File \"c:\\Anaconda3\\envs\\ml\\lib\\site-packages\\sklearn\\pipeline.py\", line 348, in _fit\n",
      "    X, fitted_transformer = fit_transform_one_cached(\n",
      "  File \"c:\\Anaconda3\\envs\\ml\\lib\\site-packages\\joblib\\memory.py\", line 349, in __call__\n",
      "    return self.func(*args, **kwargs)\n",
      "  File \"c:\\Anaconda3\\envs\\ml\\lib\\site-packages\\sklearn\\pipeline.py\", line 893, in _fit_transform_one\n",
      "    res = transformer.fit_transform(X, y, **fit_params)\n",
      "  File \"c:\\Anaconda3\\envs\\ml\\lib\\site-packages\\sklearn\\base.py\", line 855, in fit_transform\n",
      "    return self.fit(X, y, **fit_params).transform(X)\n",
      "  File \"c:\\Anaconda3\\envs\\ml\\lib\\site-packages\\sklearn\\preprocessing\\_polynomial.py\", line 287, in fit\n",
      "    _, n_features = self._validate_data(X, accept_sparse=True).shape\n",
      "  File \"c:\\Anaconda3\\envs\\ml\\lib\\site-packages\\sklearn\\base.py\", line 566, in _validate_data\n",
      "    X = check_array(X, **check_params)\n",
      "  File \"c:\\Anaconda3\\envs\\ml\\lib\\site-packages\\sklearn\\utils\\validation.py\", line 800, in check_array\n",
      "    _assert_all_finite(array, allow_nan=force_all_finite == \"allow-nan\")\n",
      "  File \"c:\\Anaconda3\\envs\\ml\\lib\\site-packages\\sklearn\\utils\\validation.py\", line 114, in _assert_all_finite\n",
      "    raise ValueError(\n",
      "ValueError: Input contains NaN, infinity or a value too large for dtype('float64').\n",
      "\n",
      "  warnings.warn(some_fits_failed_message, FitFailedWarning)\n",
      "c:\\Anaconda3\\envs\\ml\\lib\\site-packages\\sklearn\\model_selection\\_search.py:969: UserWarning: One or more of the test scores are non-finite: [nan nan nan nan]\n",
      "  warnings.warn(\n"
     ]
    },
    {
     "ename": "ValueError",
     "evalue": "Input contains NaN, infinity or a value too large for dtype('float64').",
     "output_type": "error",
     "traceback": [
      "\u001b[1;31m---------------------------------------------------------------------------\u001b[0m",
      "\u001b[1;31mValueError\u001b[0m                                Traceback (most recent call last)",
      "\u001b[1;32mc:\\Users\\KHS\\Desktop\\대학교\\데이터 청년 캠퍼스\\깃허브\\Prediction-of-IPO-stock-price-using-chatbot\\regression\\공모주 예측 모델- lasso 최종모델.ipynb 셀 8\u001b[0m in \u001b[0;36m<cell line: 111>\u001b[1;34m()\u001b[0m\n\u001b[0;32m    <a href='vscode-notebook-cell:/c%3A/Users/KHS/Desktop/%EB%8C%80%ED%95%99%EA%B5%90/%EB%8D%B0%EC%9D%B4%ED%84%B0%20%EC%B2%AD%EB%85%84%20%EC%BA%A0%ED%8D%BC%EC%8A%A4/%EA%B9%83%ED%97%88%EB%B8%8C/Prediction-of-IPO-stock-price-using-chatbot/regression/%EA%B3%B5%EB%AA%A8%EC%A3%BC%20%EC%98%88%EC%B8%A1%20%EB%AA%A8%EB%8D%B8-%20lasso%20%EC%B5%9C%EC%A2%85%EB%AA%A8%EB%8D%B8.ipynb#ch0000007?line=110'>111</a>\u001b[0m \u001b[39mfor\u001b[39;00m idx , (param , model) \u001b[39min\u001b[39;00m \u001b[39menumerate\u001b[39m(\u001b[39mzip\u001b[39m(params , pipe)) :\n\u001b[0;32m    <a href='vscode-notebook-cell:/c%3A/Users/KHS/Desktop/%EB%8C%80%ED%95%99%EA%B5%90/%EB%8D%B0%EC%9D%B4%ED%84%B0%20%EC%B2%AD%EB%85%84%20%EC%BA%A0%ED%8D%BC%EC%8A%A4/%EA%B9%83%ED%97%88%EB%B8%8C/Prediction-of-IPO-stock-price-using-chatbot/regression/%EA%B3%B5%EB%AA%A8%EC%A3%BC%20%EC%98%88%EC%B8%A1%20%EB%AA%A8%EB%8D%B8-%20lasso%20%EC%B5%9C%EC%A2%85%EB%AA%A8%EB%8D%B8.ipynb#ch0000007?line=111'>112</a>\u001b[0m     search \u001b[39m=\u001b[39m GridSearchCV(model, param, scoring  \u001b[39m=\u001b[39m \u001b[39m\"\u001b[39m\u001b[39mneg_mean_squared_error\u001b[39m\u001b[39m\"\u001b[39m , \n\u001b[0;32m    <a href='vscode-notebook-cell:/c%3A/Users/KHS/Desktop/%EB%8C%80%ED%95%99%EA%B5%90/%EB%8D%B0%EC%9D%B4%ED%84%B0%20%EC%B2%AD%EB%85%84%20%EC%BA%A0%ED%8D%BC%EC%8A%A4/%EA%B9%83%ED%97%88%EB%B8%8C/Prediction-of-IPO-stock-price-using-chatbot/regression/%EA%B3%B5%EB%AA%A8%EC%A3%BC%20%EC%98%88%EC%B8%A1%20%EB%AA%A8%EB%8D%B8-%20lasso%20%EC%B5%9C%EC%A2%85%EB%AA%A8%EB%8D%B8.ipynb#ch0000007?line=112'>113</a>\u001b[0m                           cv\u001b[39m=\u001b[39mcv , n_jobs\u001b[39m=\u001b[39mjobs , verbose\u001b[39m=\u001b[39m\u001b[39m-\u001b[39m\u001b[39m1\u001b[39m )\n\u001b[1;32m--> <a href='vscode-notebook-cell:/c%3A/Users/KHS/Desktop/%EB%8C%80%ED%95%99%EA%B5%90/%EB%8D%B0%EC%9D%B4%ED%84%B0%20%EC%B2%AD%EB%85%84%20%EC%BA%A0%ED%8D%BC%EC%8A%A4/%EA%B9%83%ED%97%88%EB%B8%8C/Prediction-of-IPO-stock-price-using-chatbot/regression/%EA%B3%B5%EB%AA%A8%EC%A3%BC%20%EC%98%88%EC%B8%A1%20%EB%AA%A8%EB%8D%B8-%20lasso%20%EC%B5%9C%EC%A2%85%EB%AA%A8%EB%8D%B8.ipynb#ch0000007?line=113'>114</a>\u001b[0m     search\u001b[39m.\u001b[39;49mfit(x_train , y_train)\n\u001b[0;32m    <a href='vscode-notebook-cell:/c%3A/Users/KHS/Desktop/%EB%8C%80%ED%95%99%EA%B5%90/%EB%8D%B0%EC%9D%B4%ED%84%B0%20%EC%B2%AD%EB%85%84%20%EC%BA%A0%ED%8D%BC%EC%8A%A4/%EA%B9%83%ED%97%88%EB%B8%8C/Prediction-of-IPO-stock-price-using-chatbot/regression/%EA%B3%B5%EB%AA%A8%EC%A3%BC%20%EC%98%88%EC%B8%A1%20%EB%AA%A8%EB%8D%B8-%20lasso%20%EC%B5%9C%EC%A2%85%EB%AA%A8%EB%8D%B8.ipynb#ch0000007?line=114'>115</a>\u001b[0m     y_pred \u001b[39m=\u001b[39m search\u001b[39m.\u001b[39mpredict(x_test)\n\u001b[0;32m    <a href='vscode-notebook-cell:/c%3A/Users/KHS/Desktop/%EB%8C%80%ED%95%99%EA%B5%90/%EB%8D%B0%EC%9D%B4%ED%84%B0%20%EC%B2%AD%EB%85%84%20%EC%BA%A0%ED%8D%BC%EC%8A%A4/%EA%B9%83%ED%97%88%EB%B8%8C/Prediction-of-IPO-stock-price-using-chatbot/regression/%EA%B3%B5%EB%AA%A8%EC%A3%BC%20%EC%98%88%EC%B8%A1%20%EB%AA%A8%EB%8D%B8-%20lasso%20%EC%B5%9C%EC%A2%85%EB%AA%A8%EB%8D%B8.ipynb#ch0000007?line=115'>116</a>\u001b[0m     model_mse[grid_dict\u001b[39m.\u001b[39mget(idx)] \u001b[39m=\u001b[39m mse(y_test, y_pred)  \n",
      "File \u001b[1;32mc:\\Anaconda3\\envs\\ml\\lib\\site-packages\\sklearn\\model_selection\\_search.py:926\u001b[0m, in \u001b[0;36mBaseSearchCV.fit\u001b[1;34m(self, X, y, groups, **fit_params)\u001b[0m\n\u001b[0;32m    924\u001b[0m refit_start_time \u001b[39m=\u001b[39m time\u001b[39m.\u001b[39mtime()\n\u001b[0;32m    925\u001b[0m \u001b[39mif\u001b[39;00m y \u001b[39mis\u001b[39;00m \u001b[39mnot\u001b[39;00m \u001b[39mNone\u001b[39;00m:\n\u001b[1;32m--> 926\u001b[0m     \u001b[39mself\u001b[39m\u001b[39m.\u001b[39mbest_estimator_\u001b[39m.\u001b[39mfit(X, y, \u001b[39m*\u001b[39m\u001b[39m*\u001b[39mfit_params)\n\u001b[0;32m    927\u001b[0m \u001b[39melse\u001b[39;00m:\n\u001b[0;32m    928\u001b[0m     \u001b[39mself\u001b[39m\u001b[39m.\u001b[39mbest_estimator_\u001b[39m.\u001b[39mfit(X, \u001b[39m*\u001b[39m\u001b[39m*\u001b[39mfit_params)\n",
      "File \u001b[1;32mc:\\Anaconda3\\envs\\ml\\lib\\site-packages\\sklearn\\pipeline.py:390\u001b[0m, in \u001b[0;36mPipeline.fit\u001b[1;34m(self, X, y, **fit_params)\u001b[0m\n\u001b[0;32m    364\u001b[0m \u001b[39m\"\"\"Fit the model.\u001b[39;00m\n\u001b[0;32m    365\u001b[0m \n\u001b[0;32m    366\u001b[0m \u001b[39mFit all the transformers one after the other and transform the\u001b[39;00m\n\u001b[1;32m   (...)\u001b[0m\n\u001b[0;32m    387\u001b[0m \u001b[39m    Pipeline with fitted steps.\u001b[39;00m\n\u001b[0;32m    388\u001b[0m \u001b[39m\"\"\"\u001b[39;00m\n\u001b[0;32m    389\u001b[0m fit_params_steps \u001b[39m=\u001b[39m \u001b[39mself\u001b[39m\u001b[39m.\u001b[39m_check_fit_params(\u001b[39m*\u001b[39m\u001b[39m*\u001b[39mfit_params)\n\u001b[1;32m--> 390\u001b[0m Xt \u001b[39m=\u001b[39m \u001b[39mself\u001b[39m\u001b[39m.\u001b[39m_fit(X, y, \u001b[39m*\u001b[39m\u001b[39m*\u001b[39mfit_params_steps)\n\u001b[0;32m    391\u001b[0m \u001b[39mwith\u001b[39;00m _print_elapsed_time(\u001b[39m\"\u001b[39m\u001b[39mPipeline\u001b[39m\u001b[39m\"\u001b[39m, \u001b[39mself\u001b[39m\u001b[39m.\u001b[39m_log_message(\u001b[39mlen\u001b[39m(\u001b[39mself\u001b[39m\u001b[39m.\u001b[39msteps) \u001b[39m-\u001b[39m \u001b[39m1\u001b[39m)):\n\u001b[0;32m    392\u001b[0m     \u001b[39mif\u001b[39;00m \u001b[39mself\u001b[39m\u001b[39m.\u001b[39m_final_estimator \u001b[39m!=\u001b[39m \u001b[39m\"\u001b[39m\u001b[39mpassthrough\u001b[39m\u001b[39m\"\u001b[39m:\n",
      "File \u001b[1;32mc:\\Anaconda3\\envs\\ml\\lib\\site-packages\\sklearn\\pipeline.py:348\u001b[0m, in \u001b[0;36mPipeline._fit\u001b[1;34m(self, X, y, **fit_params_steps)\u001b[0m\n\u001b[0;32m    346\u001b[0m     cloned_transformer \u001b[39m=\u001b[39m clone(transformer)\n\u001b[0;32m    347\u001b[0m \u001b[39m# Fit or load from cache the current transformer\u001b[39;00m\n\u001b[1;32m--> 348\u001b[0m X, fitted_transformer \u001b[39m=\u001b[39m fit_transform_one_cached(\n\u001b[0;32m    349\u001b[0m     cloned_transformer,\n\u001b[0;32m    350\u001b[0m     X,\n\u001b[0;32m    351\u001b[0m     y,\n\u001b[0;32m    352\u001b[0m     \u001b[39mNone\u001b[39;00m,\n\u001b[0;32m    353\u001b[0m     message_clsname\u001b[39m=\u001b[39m\u001b[39m\"\u001b[39m\u001b[39mPipeline\u001b[39m\u001b[39m\"\u001b[39m,\n\u001b[0;32m    354\u001b[0m     message\u001b[39m=\u001b[39m\u001b[39mself\u001b[39m\u001b[39m.\u001b[39m_log_message(step_idx),\n\u001b[0;32m    355\u001b[0m     \u001b[39m*\u001b[39m\u001b[39m*\u001b[39mfit_params_steps[name],\n\u001b[0;32m    356\u001b[0m )\n\u001b[0;32m    357\u001b[0m \u001b[39m# Replace the transformer of the step with the fitted\u001b[39;00m\n\u001b[0;32m    358\u001b[0m \u001b[39m# transformer. This is necessary when loading the transformer\u001b[39;00m\n\u001b[0;32m    359\u001b[0m \u001b[39m# from the cache.\u001b[39;00m\n\u001b[0;32m    360\u001b[0m \u001b[39mself\u001b[39m\u001b[39m.\u001b[39msteps[step_idx] \u001b[39m=\u001b[39m (name, fitted_transformer)\n",
      "File \u001b[1;32mc:\\Anaconda3\\envs\\ml\\lib\\site-packages\\joblib\\memory.py:349\u001b[0m, in \u001b[0;36mNotMemorizedFunc.__call__\u001b[1;34m(self, *args, **kwargs)\u001b[0m\n\u001b[0;32m    348\u001b[0m \u001b[39mdef\u001b[39;00m \u001b[39m__call__\u001b[39m(\u001b[39mself\u001b[39m, \u001b[39m*\u001b[39margs, \u001b[39m*\u001b[39m\u001b[39m*\u001b[39mkwargs):\n\u001b[1;32m--> 349\u001b[0m     \u001b[39mreturn\u001b[39;00m \u001b[39mself\u001b[39m\u001b[39m.\u001b[39mfunc(\u001b[39m*\u001b[39margs, \u001b[39m*\u001b[39m\u001b[39m*\u001b[39mkwargs)\n",
      "File \u001b[1;32mc:\\Anaconda3\\envs\\ml\\lib\\site-packages\\sklearn\\pipeline.py:893\u001b[0m, in \u001b[0;36m_fit_transform_one\u001b[1;34m(transformer, X, y, weight, message_clsname, message, **fit_params)\u001b[0m\n\u001b[0;32m    891\u001b[0m \u001b[39mwith\u001b[39;00m _print_elapsed_time(message_clsname, message):\n\u001b[0;32m    892\u001b[0m     \u001b[39mif\u001b[39;00m \u001b[39mhasattr\u001b[39m(transformer, \u001b[39m\"\u001b[39m\u001b[39mfit_transform\u001b[39m\u001b[39m\"\u001b[39m):\n\u001b[1;32m--> 893\u001b[0m         res \u001b[39m=\u001b[39m transformer\u001b[39m.\u001b[39mfit_transform(X, y, \u001b[39m*\u001b[39m\u001b[39m*\u001b[39mfit_params)\n\u001b[0;32m    894\u001b[0m     \u001b[39melse\u001b[39;00m:\n\u001b[0;32m    895\u001b[0m         res \u001b[39m=\u001b[39m transformer\u001b[39m.\u001b[39mfit(X, y, \u001b[39m*\u001b[39m\u001b[39m*\u001b[39mfit_params)\u001b[39m.\u001b[39mtransform(X)\n",
      "File \u001b[1;32mc:\\Anaconda3\\envs\\ml\\lib\\site-packages\\sklearn\\base.py:855\u001b[0m, in \u001b[0;36mTransformerMixin.fit_transform\u001b[1;34m(self, X, y, **fit_params)\u001b[0m\n\u001b[0;32m    852\u001b[0m     \u001b[39mreturn\u001b[39;00m \u001b[39mself\u001b[39m\u001b[39m.\u001b[39mfit(X, \u001b[39m*\u001b[39m\u001b[39m*\u001b[39mfit_params)\u001b[39m.\u001b[39mtransform(X)\n\u001b[0;32m    853\u001b[0m \u001b[39melse\u001b[39;00m:\n\u001b[0;32m    854\u001b[0m     \u001b[39m# fit method of arity 2 (supervised transformation)\u001b[39;00m\n\u001b[1;32m--> 855\u001b[0m     \u001b[39mreturn\u001b[39;00m \u001b[39mself\u001b[39m\u001b[39m.\u001b[39mfit(X, y, \u001b[39m*\u001b[39m\u001b[39m*\u001b[39mfit_params)\u001b[39m.\u001b[39mtransform(X)\n",
      "File \u001b[1;32mc:\\Anaconda3\\envs\\ml\\lib\\site-packages\\sklearn\\preprocessing\\_polynomial.py:287\u001b[0m, in \u001b[0;36mPolynomialFeatures.fit\u001b[1;34m(self, X, y)\u001b[0m\n\u001b[0;32m    270\u001b[0m \u001b[39mdef\u001b[39;00m \u001b[39mfit\u001b[39m(\u001b[39mself\u001b[39m, X, y\u001b[39m=\u001b[39m\u001b[39mNone\u001b[39;00m):\n\u001b[0;32m    271\u001b[0m     \u001b[39m\"\"\"\u001b[39;00m\n\u001b[0;32m    272\u001b[0m \u001b[39m    Compute number of output features.\u001b[39;00m\n\u001b[0;32m    273\u001b[0m \n\u001b[1;32m   (...)\u001b[0m\n\u001b[0;32m    285\u001b[0m \u001b[39m        Fitted transformer.\u001b[39;00m\n\u001b[0;32m    286\u001b[0m \u001b[39m    \"\"\"\u001b[39;00m\n\u001b[1;32m--> 287\u001b[0m     _, n_features \u001b[39m=\u001b[39m \u001b[39mself\u001b[39;49m\u001b[39m.\u001b[39;49m_validate_data(X, accept_sparse\u001b[39m=\u001b[39;49m\u001b[39mTrue\u001b[39;49;00m)\u001b[39m.\u001b[39mshape\n\u001b[0;32m    289\u001b[0m     \u001b[39mif\u001b[39;00m \u001b[39misinstance\u001b[39m(\u001b[39mself\u001b[39m\u001b[39m.\u001b[39mdegree, numbers\u001b[39m.\u001b[39mIntegral):\n\u001b[0;32m    290\u001b[0m         \u001b[39mif\u001b[39;00m \u001b[39mself\u001b[39m\u001b[39m.\u001b[39mdegree \u001b[39m<\u001b[39m \u001b[39m0\u001b[39m:\n",
      "File \u001b[1;32mc:\\Anaconda3\\envs\\ml\\lib\\site-packages\\sklearn\\base.py:566\u001b[0m, in \u001b[0;36mBaseEstimator._validate_data\u001b[1;34m(self, X, y, reset, validate_separately, **check_params)\u001b[0m\n\u001b[0;32m    564\u001b[0m     \u001b[39mraise\u001b[39;00m \u001b[39mValueError\u001b[39;00m(\u001b[39m\"\u001b[39m\u001b[39mValidation should be done on X, y or both.\u001b[39m\u001b[39m\"\u001b[39m)\n\u001b[0;32m    565\u001b[0m \u001b[39melif\u001b[39;00m \u001b[39mnot\u001b[39;00m no_val_X \u001b[39mand\u001b[39;00m no_val_y:\n\u001b[1;32m--> 566\u001b[0m     X \u001b[39m=\u001b[39m check_array(X, \u001b[39m*\u001b[39m\u001b[39m*\u001b[39mcheck_params)\n\u001b[0;32m    567\u001b[0m     out \u001b[39m=\u001b[39m X\n\u001b[0;32m    568\u001b[0m \u001b[39melif\u001b[39;00m no_val_X \u001b[39mand\u001b[39;00m \u001b[39mnot\u001b[39;00m no_val_y:\n",
      "File \u001b[1;32mc:\\Anaconda3\\envs\\ml\\lib\\site-packages\\sklearn\\utils\\validation.py:800\u001b[0m, in \u001b[0;36mcheck_array\u001b[1;34m(array, accept_sparse, accept_large_sparse, dtype, order, copy, force_all_finite, ensure_2d, allow_nd, ensure_min_samples, ensure_min_features, estimator)\u001b[0m\n\u001b[0;32m    794\u001b[0m         \u001b[39mraise\u001b[39;00m \u001b[39mValueError\u001b[39;00m(\n\u001b[0;32m    795\u001b[0m             \u001b[39m\"\u001b[39m\u001b[39mFound array with dim \u001b[39m\u001b[39m%d\u001b[39;00m\u001b[39m. \u001b[39m\u001b[39m%s\u001b[39;00m\u001b[39m expected <= 2.\u001b[39m\u001b[39m\"\u001b[39m\n\u001b[0;32m    796\u001b[0m             \u001b[39m%\u001b[39m (array\u001b[39m.\u001b[39mndim, estimator_name)\n\u001b[0;32m    797\u001b[0m         )\n\u001b[0;32m    799\u001b[0m     \u001b[39mif\u001b[39;00m force_all_finite:\n\u001b[1;32m--> 800\u001b[0m         _assert_all_finite(array, allow_nan\u001b[39m=\u001b[39;49mforce_all_finite \u001b[39m==\u001b[39;49m \u001b[39m\"\u001b[39;49m\u001b[39mallow-nan\u001b[39;49m\u001b[39m\"\u001b[39;49m)\n\u001b[0;32m    802\u001b[0m \u001b[39mif\u001b[39;00m ensure_min_samples \u001b[39m>\u001b[39m \u001b[39m0\u001b[39m:\n\u001b[0;32m    803\u001b[0m     n_samples \u001b[39m=\u001b[39m _num_samples(array)\n",
      "File \u001b[1;32mc:\\Anaconda3\\envs\\ml\\lib\\site-packages\\sklearn\\utils\\validation.py:114\u001b[0m, in \u001b[0;36m_assert_all_finite\u001b[1;34m(X, allow_nan, msg_dtype)\u001b[0m\n\u001b[0;32m    107\u001b[0m     \u001b[39mif\u001b[39;00m (\n\u001b[0;32m    108\u001b[0m         allow_nan\n\u001b[0;32m    109\u001b[0m         \u001b[39mand\u001b[39;00m np\u001b[39m.\u001b[39misinf(X)\u001b[39m.\u001b[39many()\n\u001b[0;32m    110\u001b[0m         \u001b[39mor\u001b[39;00m \u001b[39mnot\u001b[39;00m allow_nan\n\u001b[0;32m    111\u001b[0m         \u001b[39mand\u001b[39;00m \u001b[39mnot\u001b[39;00m np\u001b[39m.\u001b[39misfinite(X)\u001b[39m.\u001b[39mall()\n\u001b[0;32m    112\u001b[0m     ):\n\u001b[0;32m    113\u001b[0m         type_err \u001b[39m=\u001b[39m \u001b[39m\"\u001b[39m\u001b[39minfinity\u001b[39m\u001b[39m\"\u001b[39m \u001b[39mif\u001b[39;00m allow_nan \u001b[39melse\u001b[39;00m \u001b[39m\"\u001b[39m\u001b[39mNaN, infinity\u001b[39m\u001b[39m\"\u001b[39m\n\u001b[1;32m--> 114\u001b[0m         \u001b[39mraise\u001b[39;00m \u001b[39mValueError\u001b[39;00m(\n\u001b[0;32m    115\u001b[0m             msg_err\u001b[39m.\u001b[39mformat(\n\u001b[0;32m    116\u001b[0m                 type_err, msg_dtype \u001b[39mif\u001b[39;00m msg_dtype \u001b[39mis\u001b[39;00m \u001b[39mnot\u001b[39;00m \u001b[39mNone\u001b[39;00m \u001b[39melse\u001b[39;00m X\u001b[39m.\u001b[39mdtype\n\u001b[0;32m    117\u001b[0m             )\n\u001b[0;32m    118\u001b[0m         )\n\u001b[0;32m    119\u001b[0m \u001b[39m# for object dtype data, we only check for NaNs (GH-13254)\u001b[39;00m\n\u001b[0;32m    120\u001b[0m \u001b[39melif\u001b[39;00m X\u001b[39m.\u001b[39mdtype \u001b[39m==\u001b[39m np\u001b[39m.\u001b[39mdtype(\u001b[39m\"\u001b[39m\u001b[39mobject\u001b[39m\u001b[39m\"\u001b[39m) \u001b[39mand\u001b[39;00m \u001b[39mnot\u001b[39;00m allow_nan:\n",
      "\u001b[1;31mValueError\u001b[0m: Input contains NaN, infinity or a value too large for dtype('float64')."
     ]
    }
   ],
   "source": [
    "cv = ShuffleSplit(n_splits=5 , test_size=0.3, random_state=42)\n",
    "pipe_linear = Pipeline([\n",
    "                ('scl', StandardScaler()),\n",
    "                ('poly', PolynomialFeatures()),\n",
    "                 ('fit', LinearRegression())])\n",
    "pipe_lasso = Pipeline([\n",
    "                ('scl', StandardScaler()),\n",
    "                ('poly', PolynomialFeatures()),\n",
    "                 ('fit', Lasso(random_state = 42))])\n",
    "pipe_ridge = Pipeline([\n",
    "                ('scl', StandardScaler()),\n",
    "                ('poly', PolynomialFeatures()),\n",
    "                 ('fit', Ridge(random_state = 42))])\n",
    "pipe_pca = Pipeline([\n",
    "                ('scl', StandardScaler()),\n",
    "                ('pca', PCA()),\n",
    "                 ('fit', Ridge(random_state = 42))])\n",
    "pipe_pls = Pipeline([\n",
    "                ('scl', StandardScaler()),\n",
    "                 ('fit', PLS())])\n",
    "pipe_gbr = Pipeline([\n",
    "                ('scl', StandardScaler()),\n",
    "                 ('fit', GBR())])\n",
    "pipe_rfr = Pipeline([\n",
    "                ('scl', StandardScaler()),\n",
    "                 ('fit', RFR())])\n",
    "pipe_svr = Pipeline([\n",
    "                ('scl', StandardScaler()),\n",
    "                 ('fit', SVR())])\n",
    "\n",
    "pipe_KR = Pipeline([\n",
    "                ('scl', StandardScaler()),\n",
    "                 ('fit', KernelRidge())])\n",
    "                 \n",
    "                 \n",
    "### \n",
    "\n",
    "grid_params_linear = [{\n",
    "    \"poly__degree\" : np.arange(1,3), \n",
    "    \"fit__fit_intercept\" : [True, False], \n",
    "}]\n",
    "grid_params_lasso = [{\n",
    "    \"poly__degree\" : np.arange(1,3),\n",
    "    \"fit__tol\" : np.logspace(-5,0,10) ,\n",
    "    \"fit__alpha\" : np.logspace(-5,1,10) ,     \n",
    "                     }]\n",
    "grid_params_pca = [{\n",
    "    \"pca__n_components\" : np.arange(2,8)\n",
    "}]\n",
    "grid_params_ridge = [{\n",
    "    \"poly__degree\" : np.arange(1,3),\n",
    "    \"fit__alpha\" : np.linspace(2,5,10) ,\n",
    "    \"fit__solver\" : [ \"cholesky\",\"lsqr\",\"sparse_cg\"] ,\n",
    "    \"fit__tol\" : np.logspace(-5,0,10) ,\n",
    "                     }]\n",
    "grid_params_pls = [{\n",
    "    \"fit__n_components\" : np.arange(2,8)\n",
    "}]\n",
    "min_samples_split_range = [0.5, 0.7 , 0.9]\n",
    "\n",
    "grid_params_gbr =[{\n",
    "    \"fit__max_features\" : [\"sqrt\",\"log2\"] ,\n",
    "    \"fit__loss\" : [\"ls\",\"lad\",\"huber\",\"quantile\"] , \n",
    "    \"fit__max_depth\" : [5,6,7,8] ,\n",
    "    \"fit__min_samples_split\" : min_samples_split_range ,\n",
    "}]\n",
    "grid_params_rfr =[{\n",
    "    \"fit__max_features\" : [\"sqrt\",\"log2\"] , \n",
    "    \"fit__max_depth\" : [5,6,7,8] ,\n",
    "    \"fit__min_samples_split\" : min_samples_split_range ,\n",
    "}]\n",
    "grid_params_svr =[{\n",
    "    \"fit__kernel\" : [\"rbf\", \"linear\"] ,\n",
    "    \"fit__degree\" : [2, 3, 5] , \n",
    "    \"fit__gamma\" : np.logspace(-5,1,10) ,\n",
    "}]\n",
    "grid_params_KR =[{\n",
    "    \"fit__kernel\" : [\"rbf\",\"linear\"] , \n",
    "    \"fit__gamma\" : np.logspace(-5,1,10) ,\n",
    "}]\n",
    "pipe = [\n",
    "    pipe_linear , pipe_lasso ,  pipe_pca ,\n",
    "    pipe_ridge , pipe_pls , pipe_gbr , \n",
    "    pipe_rfr , pipe_svr , pipe_KR \n",
    "]\n",
    "\n",
    "params = [\n",
    "    grid_params_linear , grid_params_lasso , grid_params_pca,\n",
    "    grid_params_ridge , grid_params_pls , grid_params_gbr ,\n",
    "    grid_params_rfr , grid_params_svr , grid_params_KR\n",
    "]\n",
    "\n",
    "jobs = 20\n",
    "\n",
    "grid_dict = {\n",
    "    0: 'Linear', \n",
    "    1: 'Lasso', \n",
    "    2: 'pca regression' , \n",
    "    3: 'Ridge' ,\n",
    "    4: 'PLSRegression',\n",
    "    5: \"GradientDescentRegressor\" ,\n",
    "    6: \"RandomForestRegressor\" ,\n",
    "    7: \"SupportVectorRegressor\" ,\n",
    "    8: \"Kernel RidgeRegression\"\n",
    "            }\n",
    "\n",
    "model_mse = {}\n",
    "model_r2 = {}\n",
    "model_best_params = {}\n",
    "\n",
    "for idx , (param , model) in enumerate(zip(params , pipe)) :\n",
    "    search = GridSearchCV(model, param, scoring  = \"neg_mean_squared_error\" , \n",
    "                          cv=cv , n_jobs=jobs , verbose=-1 )\n",
    "    search.fit(x_train , y_train)\n",
    "    y_pred = search.predict(x_test)\n",
    "    model_mse[grid_dict.get(idx)] = mse(y_test, y_pred)  \n",
    "    model_r2[grid_dict.get(idx)] = r2(y_test, y_pred)  \n",
    "    model_best_params[grid_dict.get(idx)] = search.best_params_\n",
    "print(\"finish\")"
   ]
  },
  {
   "cell_type": "code",
   "execution_count": null,
   "metadata": {},
   "outputs": [
    {
     "data": {
      "image/png": "[encoded data removed]",
      "text/plain": [
       "<Figure size 1440x720 with 1 Axes>"
      ]
     },
     "metadata": {
      "needs_background": "light"
     },
     "output_type": "display_data"
    }
   ],
   "source": [
    "fig ,ax = plt.subplots(figsize=(20, 10))\n",
    "sns.set(font_scale = 2)\n",
    "output = pd.DataFrame([model_r2.keys() , model_r2.values()], index = [\"algo\",\"r2\"]).T\n",
    "output.sort_values([\"r2\"], ascending= False ,inplace=True)\n",
    "ax = sns.barplot(y=\"algo\", x=\"r2\", data=output)\n",
    "plt.show()"
   ]
  },
  {
   "cell_type": "code",
   "execution_count": null,
   "metadata": {},
   "outputs": [
    {
     "data": {
      "text/plain": [
       "{'Linear': {'fit__fit_intercept': True, 'poly__degree': 1},\n",
       " 'Lasso': {'fit__alpha': 0.46415888336127725,\n",
       "  'fit__tol': 1e-05,\n",
       "  'poly__degree': 2},\n",
       " 'pca regression': {'pca__n_components': 5},\n",
       " 'Ridge': {'fit__alpha': 2.0,\n",
       "  'fit__solver': 'lsqr',\n",
       "  'fit__tol': 0.005994842503189409,\n",
       "  'poly__degree': 1},\n",
       " 'PLSRegression': {'fit__n_components': 5},\n",
       " 'GradientDescentRegressor': {'fit__loss': 'ls',\n",
       "  'fit__max_depth': 6,\n",
       "  'fit__max_features': 'log2',\n",
       "  'fit__min_samples_split': 0.5},\n",
       " 'RandomForestRegressor': {'fit__max_depth': 5,\n",
       "  'fit__max_features': 'log2',\n",
       "  'fit__min_samples_split': 0.5},\n",
       " 'SupportVectorRegressor': {'fit__degree': 2,\n",
       "  'fit__gamma': 1e-05,\n",
       "  'fit__kernel': 'linear'},\n",
       " 'Kernel RidgeRegression': {'fit__gamma': 0.021544346900318822,\n",
       "  'fit__kernel': 'rbf'}}"
      ]
     },
     "execution_count": 10,
     "metadata": {},
     "output_type": "execute_result"
    }
   ],
   "source": [
    "#model_mse\n",
    "model_r2\n",
    "model_best_params"
   ]
  },
  {
   "cell_type": "code",
   "execution_count": null,
   "metadata": {},
   "outputs": [
    {
     "data": {
      "text/plain": [
       "Lasso(alpha=0.004641588833612777)"
      ]
     },
     "execution_count": 11,
     "metadata": {},
     "output_type": "execute_result"
    }
   ],
   "source": [
    "from sklearn.linear_model import Lasso\n",
    "model.fit(x_train, y_train)\n",
    "lasso = Lasso(alpha=0.004641588833612777).fit(x_train, y_train)\n",
    "prd = lasso\n",
    "prd.fit(x_train,y_train)"
   ]
  },
  {
   "cell_type": "code",
   "execution_count": null,
   "metadata": {},
   "outputs": [
    {
     "ename": "NameError",
     "evalue": "name 'lasso' is not defined",
     "output_type": "error",
     "traceback": [
      "\u001b[1;31m---------------------------------------------------------------------------\u001b[0m",
      "\u001b[1;31mNameError\u001b[0m                                 Traceback (most recent call last)",
      "\u001b[1;32mc:\\Users\\KHS\\Desktop\\대학교\\데이터 청년 캠퍼스\\깃허브\\Prediction-of-IPO-stock-price-using-chatbot\\regression\\공모주 예측 모델- lasso 최종모델.ipynb 셀 12\u001b[0m in \u001b[0;36m<cell line: 1>\u001b[1;34m()\u001b[0m\n\u001b[1;32m----> <a href='vscode-notebook-cell:/c%3A/Users/KHS/Desktop/%EB%8C%80%ED%95%99%EA%B5%90/%EB%8D%B0%EC%9D%B4%ED%84%B0%20%EC%B2%AD%EB%85%84%20%EC%BA%A0%ED%8D%BC%EC%8A%A4/%EA%B9%83%ED%97%88%EB%B8%8C/Prediction-of-IPO-stock-price-using-chatbot/regression/%EA%B3%B5%EB%AA%A8%EC%A3%BC%20%EC%98%88%EC%B8%A1%20%EB%AA%A8%EB%8D%B8-%20lasso%20%EC%B5%9C%EC%A2%85%EB%AA%A8%EB%8D%B8.ipynb#ch0000011?line=0'>1</a>\u001b[0m y_predict \u001b[39m=\u001b[39m lasso\u001b[39m.\u001b[39mpredict(x_test)\n\u001b[0;32m      <a href='vscode-notebook-cell:/c%3A/Users/KHS/Desktop/%EB%8C%80%ED%95%99%EA%B5%90/%EB%8D%B0%EC%9D%B4%ED%84%B0%20%EC%B2%AD%EB%85%84%20%EC%BA%A0%ED%8D%BC%EC%8A%A4/%EA%B9%83%ED%97%88%EB%B8%8C/Prediction-of-IPO-stock-price-using-chatbot/regression/%EA%B3%B5%EB%AA%A8%EC%A3%BC%20%EC%98%88%EC%B8%A1%20%EB%AA%A8%EB%8D%B8-%20lasso%20%EC%B5%9C%EC%A2%85%EB%AA%A8%EB%8D%B8.ipynb#ch0000011?line=1'>2</a>\u001b[0m \u001b[39mprint\u001b[39m(y_predict)\n",
      "\u001b[1;31mNameError\u001b[0m: name 'lasso' is not defined"
     ]
    }
   ],
   "source": [
    "y_predict = lasso.predict(x_test)\n",
    "print(y_predict)"
   ]
  },
  {
   "cell_type": "code",
   "execution_count": null,
   "metadata": {},
   "outputs": [],
   "source": [
    "import matplotlib.pyplot as plt\n",
    "plt.rc('font', family='NanumBarunGothic')\n",
    "plt.rcParams['axes.unicode_minus'] = False"
   ]
  },
  {
   "cell_type": "code",
   "execution_count": null,
   "metadata": {},
   "outputs": [],
   "source": [
    "import matplotlib.pyplot as plt\n",
    "plt.rc('font', family='NanumBarunGothic')\n",
    "plt.rcParams['axes.unicode_minus'] = False"
   ]
  },
  {
   "cell_type": "code",
   "execution_count": null,
   "metadata": {},
   "outputs": [
    {
     "name": "stderr",
     "output_type": "stream",
     "text": [
      "findfont: Font family ['NanumBarunGothic'] not found. Falling back to DejaVu Sans.\n",
      "findfont: Font family ['NanumBarunGothic'] not found. Falling back to DejaVu Sans.\n"
     ]
    },
    {
     "data": {
      "image/png": "[encoded data removed]",
      "text/plain": [
       "<Figure size 432x288 with 1 Axes>"
      ]
     },
     "metadata": {},
     "output_type": "display_data"
    }
   ],
   "source": [
    "plt.scatter(y_test, y_predict, alpha = 0.4)\n",
    "plt.xlabel(\"Actual Rent\")\n",
    "plt.ylabel(\"Predicted Rent\")\n",
    "plt.title(\"MULTIPLE LINEAR REGRESSION\")\n",
    "plt.show()"
   ]
  },
  {
   "cell_type": "code",
   "execution_count": null,
   "metadata": {},
   "outputs": [],
   "source": [
    "from sklearn.metrics import mean_absolute_error\n",
    "mae_test=mean_absolute_error(y_test,y_predict)\n",
    "#수치가 낮을수록 정확도가 높음\n",
    "from sklearn.metrics import mean_squared_error\n",
    "mse_test=mean_squared_error(y_test, y_predict)\n",
    "#수치가 낮을수록 정확도가 높음\n",
    "from sklearn.metrics import r2_score\n",
    "r2_score=r2_score(y_test, y_predict)"
   ]
  },
  {
   "cell_type": "code",
   "execution_count": null,
   "metadata": {},
   "outputs": [
    {
     "name": "stdout",
     "output_type": "stream",
     "text": [
      "lasso regression: Mean squared error: 756.854335\n",
      "lasso regression: Mean_absolute_error: 23.143115\n",
      "lasso regression: r2_score: 0.522454\n"
     ]
    }
   ],
   "source": [
    "print('lasso regression: Mean squared error: %f' %(mse_test)) \n",
    "print('lasso regression: Mean_absolute_error: %f' %(mae_test)) \n",
    "print('lasso regression: r2_score: %f' %(r2_score))"
   ]
  },
  {
   "cell_type": "code",
   "execution_count": null,
   "metadata": {},
   "outputs": [
    {
     "data": {
      "text/plain": [
       "['saved_model.pkl']"
      ]
     },
     "execution_count": 18,
     "metadata": {},
     "output_type": "execute_result"
    }
   ],
   "source": [
    "import joblib\n",
    "joblib.dump(prd, 'saved_model.pkl')"
   ]
  },
  {
   "cell_type": "code",
   "execution_count": null,
   "metadata": {},
   "outputs": [],
   "source": [
    "import joblib\n",
    "prd = joblib.load('saved_model.pkl')"
   ]
  },
  {
   "cell_type": "code",
   "execution_count": null,
   "metadata": {},
   "outputs": [],
   "source": [
    "import pickle\n",
    "with open('saved_model.pickle','wb') as fw:\n",
    "    pickle.dump(prd,fw)"
   ]
  },
  {
   "cell_type": "code",
   "execution_count": null,
   "metadata": {},
   "outputs": [],
   "source": [
    "import pickle\n",
    "with open('saved_model.pickle','rb') as f:\n",
    "    model3 = pickle.load(f)"
   ]
  },
  {
   "cell_type": "code",
   "execution_count": null,
   "metadata": {},
   "outputs": [
    {
     "data": {
      "text/plain": [
       "Lasso(alpha=0.004641588833612777)"
      ]
     },
     "execution_count": 22,
     "metadata": {},
     "output_type": "execute_result"
    }
   ],
   "source": [
    "model3"
   ]
  },
  {
   "cell_type": "code",
   "execution_count": null,
   "metadata": {
    "scrolled": true
   },
   "outputs": [
    {
     "name": "stdout",
     "output_type": "stream",
     "text": [
      "lasso regression: r2_score: 0.522454\n"
     ]
    }
   ],
   "source": [
    "print('lasso regression: r2_score: %f' %(r2_score))"
   ]
  },
  {
   "cell_type": "code",
   "execution_count": null,
   "metadata": {},
   "outputs": [],
   "source": []
  }
 ],
 "metadata": {
  "colab": {
   "collapsed_sections": [],
   "name": "New.ipynb",
   "provenance": []
  },
  "kernelspec": {
   "display_name": "Python 3.9.12 ('ml')",
   "language": "python",
   "name": "python3"
  },
  "language_info": {
   "codemirror_mode": {
    "name": "ipython",
    "version": 3
   },
   "file_extension": ".py",
   "mimetype": "text/x-python",
   "name": "python",
   "nbconvert_exporter": "python",
   "pygments_lexer": "ipython3",
   "version": "3.9.12"
  },
  "vscode": {
   "interpreter": {
    "hash": "2fd8ffa6155755da6e46d79320aeff097111fde3e362ae0d899ff1703ff23477"
   }
  }
 },
 "nbformat": 4,
 "nbformat_minor": 1
}
